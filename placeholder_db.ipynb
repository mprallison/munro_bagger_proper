{
 "cells": [
  {
   "cell_type": "code",
   "execution_count": 1,
   "id": "ea861a90-d7e7-4a8c-b76c-575b9aa1afdc",
   "metadata": {},
   "outputs": [],
   "source": [
    "#from werkzeug.security import generate_password_hash\n",
    "#print(generate_password_hash(\"test\"))"
   ]
  },
  {
   "cell_type": "code",
   "execution_count": 2,
   "id": "9e73d71d-6fe9-453b-89b9-bc79b2a304af",
   "metadata": {},
   "outputs": [],
   "source": [
    "import sqlite3\n",
    "import pandas as pd\n",
    "\n",
    "conn = sqlite3.connect(\"database.db\")\n",
    "cur = conn.cursor()"
   ]
  },
  {
   "cell_type": "code",
   "execution_count": 3,
   "id": "afe93484-1514-46ba-a351-19ac5d0e3734",
   "metadata": {},
   "outputs": [],
   "source": [
    "#create munros table\n",
    "create_munro_table = \"\"\"CREATE TABLE munros (\n",
    "                    munro_id TEXT PRIMARY KEY,\n",
    "                    name TEXT UNIQUE,\n",
    "                    region TEXT,\n",
    "                    height TEXT,\n",
    "                    whl_url TEXT,\n",
    "                    latitude FLOAT,\n",
    "                    longitude FLOAT\n",
    "                );\n",
    "                \"\"\"\n",
    "cur.execute(\"DROP TABLE IF EXISTS munros;\")\n",
    "cur.execute(create_munro_table)\n",
    "\n",
    "#add data from csv\n",
    "munro_df = pd.read_csv(\"data/munros.csv\")\n",
    "munro_df.to_sql(\"munros\", conn, if_exists=\"append\", index=False)\n",
    "conn.commit()"
   ]
  },
  {
   "cell_type": "code",
   "execution_count": 4,
   "id": "290ee7e2-12ac-46d1-b4b9-13c70c1ab50c",
   "metadata": {},
   "outputs": [],
   "source": [
    "#create users table\n",
    "create_user_table = \"\"\"CREATE TABLE users (\n",
    "                    id INTEGER PRIMARY KEY AUTOINCREMENT,\n",
    "                    user_id TEXT,\n",
    "                    user_name TEXT UNIQUE NOT NULL,\n",
    "                    password TEXT NOT NULL\n",
    "                );\n",
    "                \"\"\"\n",
    "\n",
    "cur.execute(\"DROP TABLE IF EXISTS users;\")\n",
    "cur.execute(create_user_table)\n",
    "\n",
    "\n",
    "user_df = pd.read_csv(\"data/users.csv\")\n",
    "user_df.to_sql(\"users\", conn, if_exists=\"append\", index=False)\n",
    "conn.commit()"
   ]
  },
  {
   "cell_type": "code",
   "execution_count": null,
   "id": "03ce7fda-92c8-4327-80a7-0e5932a20570",
   "metadata": {},
   "outputs": [],
   "source": [
    "#create bags junction table\n",
    "create_bags_table = \"\"\"CREATE TABLE bags (\n",
    "                        user_id INTEGER NOT NULL,\n",
    "                        munro_id INTEGER NOT NULL,\n",
    "                        date TEXT NOT NULL,\n",
    "                        distance TEXT,\n",
    "                        friends TEXT,\n",
    "                        notes TEXT,\n",
    "                        private TEXT,\n",
    "                        FOREIGN KEY (user_id) REFERENCES users(user_id),\n",
    "                        FOREIGN KEY (munro_id) REFERENCES munros(munro_id)\n",
    "                        );\n",
    "                        \"\"\"\n",
    "\n",
    "cur.execute(\"DROP TABLE IF EXISTS bags;\")\n",
    "cur.execute(create_bags_table)\n",
    "\n",
    "bag_df = pd.read_csv(\"data/bags.csv\")\n",
    "bag_df.to_sql(\"bags\", conn, if_exists=\"append\", index=False)\n",
    "conn.commit()"
   ]
  },
  {
   "cell_type": "code",
   "execution_count": 6,
   "id": "f2998e38",
   "metadata": {},
   "outputs": [],
   "source": [
    "#create teams table\n",
    "create_team_table = \"\"\"CREATE TABLE teams (\n",
    "                    id INTEGER PRIMARY KEY AUTOINCREMENT,\n",
    "                    team_id TEXT,\n",
    "                    team_name TEXT UNIQUE NOT NULL\n",
    "                    );\n",
    "                    \"\"\"\n",
    "\n",
    "cur.execute(\"DROP TABLE IF EXISTS teams;\")\n",
    "cur.execute(create_team_table)\n",
    "\n",
    "\n",
    "team_df = pd.read_csv(\"data/teams.csv\")\n",
    "team_df.to_sql(\"teams\", conn, if_exists=\"append\", index=False)\n",
    "conn.commit()"
   ]
  },
  {
   "cell_type": "code",
   "execution_count": 7,
   "id": "3ff6a825",
   "metadata": {},
   "outputs": [],
   "source": [
    "#create members table\n",
    "create_member_table = \"\"\"CREATE TABLE members (\n",
    "                    team_id TEXT NOT NULL,\n",
    "                    user_id TEXT NOT NULL,\n",
    "                    UNIQUE (team_id, user_id)\n",
    "                );\n",
    "                \"\"\"\n",
    "\n",
    "cur.execute(\"DROP TABLE IF EXISTS members;\")\n",
    "cur.execute(create_member_table)\n",
    "\n",
    "\n",
    "member_df = pd.read_csv(\"data/members.csv\")\n",
    "member_df.to_sql(\"members\", conn, if_exists=\"append\", index=False)\n",
    "conn.commit()"
   ]
  },
  {
   "cell_type": "code",
   "execution_count": 8,
   "id": "dc10ef51-395b-4818-8f7d-6769235493d8",
   "metadata": {},
   "outputs": [],
   "source": [
    "conn.close()"
   ]
  }
 ],
 "metadata": {
  "kernelspec": {
   "display_name": "munros_with_friends-EYGnEc7L",
   "language": "python",
   "name": "python3"
  },
  "language_info": {
   "codemirror_mode": {
    "name": "ipython",
    "version": 3
   },
   "file_extension": ".py",
   "mimetype": "text/x-python",
   "name": "python",
   "nbconvert_exporter": "python",
   "pygments_lexer": "ipython3",
   "version": "3.13.6"
  }
 },
 "nbformat": 4,
 "nbformat_minor": 5
}
