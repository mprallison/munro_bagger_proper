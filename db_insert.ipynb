{
 "cells": [
  {
   "cell_type": "code",
   "execution_count": null,
   "id": "ea861a90-d7e7-4a8c-b76c-575b9aa1afdc",
   "metadata": {},
   "outputs": [],
   "source": [
    "#from werkzeug.security import generate_password_hash\n",
    "#print(generate_password_hash(\"test\"))"
   ]
  },
  {
   "cell_type": "code",
   "execution_count": 2,
   "id": "9e73d71d-6fe9-453b-89b9-bc79b2a304af",
   "metadata": {},
   "outputs": [],
   "source": [
    "import sqlite3\n",
    "import pandas as pd"
   ]
  },
  {
   "cell_type": "code",
   "execution_count": 3,
   "id": "f2845b69-32ec-45f3-bc88-2bd9c47c0475",
   "metadata": {},
   "outputs": [],
   "source": [
    "db_file = \"database.db\""
   ]
  },
  {
   "cell_type": "code",
   "execution_count": 4,
   "id": "bf4dd100-13dd-4bee-95ab-89ff2b91f35b",
   "metadata": {},
   "outputs": [],
   "source": [
    "conn = sqlite3.connect(db_file)\n",
    "cursor = conn.cursor()"
   ]
  },
  {
   "cell_type": "code",
   "execution_count": 13,
   "id": "9e125fcc-27d2-49c4-877d-92cce2d6597e",
   "metadata": {},
   "outputs": [],
   "source": [
    "munro_df = pd.read_csv(\"munros_table.csv\").astype(str)"
   ]
  },
  {
   "cell_type": "code",
   "execution_count": 15,
   "id": "fa05630a",
   "metadata": {},
   "outputs": [],
   "source": [
    "#add munros table\n",
    "table_name = \"munros\"\n",
    "\n",
    "munro_df = pd.read_csv(\"munros_table.csv\")\n",
    "\n",
    "columns = \", \".join([f'\"{col}\" TEXT' for col in munro_df.columns])\n",
    "cursor.execute(f'CREATE TABLE IF NOT EXISTS {table_name} ({columns});')\n",
    "\n",
    "munro_df.to_sql(table_name, conn, if_exists=\"replace\", index=False)\n",
    "\n",
    "conn.commit()"
   ]
  },
  {
   "cell_type": "code",
   "execution_count": 6,
   "id": "b52fcc8f-195e-4420-a6c8-3d89d3c968c8",
   "metadata": {},
   "outputs": [],
   "source": [
    "#add users table\n",
    "table_name = \"users\"\n",
    "\n",
    "user_names = [\"matthew\",\n",
    "             \"amy\",\n",
    "             \"scott\",\n",
    "             \"emily\",\n",
    "            ]\n",
    "\n",
    "user_ids = [f\"u{i:03}\" for i in range(len(user_names))]\n",
    "\n",
    "passwords = 123\n",
    "\n",
    "user_df = pd.DataFrame({\"user_id\": user_ids,\n",
    "                   \"user_name\": user_names,\n",
    "                   \"password\": passwords,\n",
    "                  })\n",
    "\n",
    "columns = \", \".join([f'\"{col}\" TEXT' for col in user_df.columns])\n",
    "cursor.execute(f\"CREATE TABLE IF NOT EXISTS {table_name} ({columns});\")\n",
    "\n",
    "user_df.to_sql(table_name, conn, if_exists=\"replace\", index=False)\n",
    "\n",
    "conn.commit()"
   ]
  },
  {
   "cell_type": "code",
   "execution_count": 19,
   "id": "2ef3d81b-bd09-42b2-9890-5b0b4bb7b853",
   "metadata": {},
   "outputs": [],
   "source": [
    "#add new user to users\n",
    "#add_user = \"\"\"INSERT INTO users (user_name, password)\n",
    "#            VALUES \n",
    "#                (\"u00x\", \"pete\", \"123\")\n",
    "#            \"\"\"\n",
    "\n",
    "#cursor.execute(add_user)\n",
    "#conn.commit()"
   ]
  },
  {
   "cell_type": "code",
   "execution_count": 27,
   "id": "8503fded-bfad-479d-91c4-deedcd39239c",
   "metadata": {},
   "outputs": [],
   "source": [
    "#create junction table\n",
    "#add junction bag table\n",
    "create_junction_table = \"\"\"\n",
    "                        CREATE TABLE bags (\n",
    "                        user_id INTEGER NOT NULL,\n",
    "                        munro_id INTEGER NOT NULL,\n",
    "                        date TEXT NOT NULL,\n",
    "                        distance TEXT,\n",
    "                        friends TEXT,\n",
    "                        notes TEXT,\n",
    "                        FOREIGN KEY (user_id) REFERENCES users(user_id),\n",
    "                        FOREIGN KEY (munro_id) REFERENCES munros(munro_id)\n",
    "                        );\n",
    "                        \"\"\"\n",
    "\n",
    "#cursor.execute(\"DROP TABLE IF EXISTS bags;\")\n",
    "#cursor.execute(create_junction_table)\n",
    "#conn.commit()"
   ]
  },
  {
   "cell_type": "code",
   "execution_count": 28,
   "id": "34415efe-2067-4873-9b65-9eb10bf4f38a",
   "metadata": {},
   "outputs": [
    {
     "data": {
      "text/plain": [
       "35"
      ]
     },
     "execution_count": 28,
     "metadata": {},
     "output_type": "execute_result"
    }
   ],
   "source": [
    "#add bags from csv\n",
    "amy_df = pd.read_csv(\"C:/Users/mrallison/Downloads/munros - amy_bags.csv\", dtype=str, keep_default_na=True)\n",
    "amy_df.to_sql('bags', conn, if_exists='append', index=False)"
   ]
  },
  {
   "cell_type": "code",
   "execution_count": 32,
   "id": "5fa3431f-7b75-43c8-b1b2-5871ec84a209",
   "metadata": {},
   "outputs": [],
   "source": [
    "#matthew_df = pd.read_csv(\"C:/Users/mrallison/Downloads/munros - Sheet7.csv\", dtype=str)\n",
    "#matthew_df[\"distance\"] = None\n",
    "#matthew_df[\"friends\"] = None\n",
    "#matthew_df[\"notes\"] = None\n",
    "\n",
    "#matthew_df.to_sql('bags', conn, if_exists='append', index=False)"
   ]
  },
  {
   "cell_type": "code",
   "execution_count": 35,
   "id": "505dc75b-21a0-4f31-b4a2-295ad7258807",
   "metadata": {},
   "outputs": [],
   "source": [
    "matthew_df[\"distance\"] = None\n",
    "matthew_df[\"friends\"] = None\n",
    "matthew_df[\"notes\"] = None"
   ]
  },
  {
   "cell_type": "code",
   "execution_count": 37,
   "id": "27d11339-68c2-4b05-b5e7-50944e57262c",
   "metadata": {},
   "outputs": [
    {
     "data": {
      "text/plain": [
       "48"
      ]
     },
     "execution_count": 37,
     "metadata": {},
     "output_type": "execute_result"
    }
   ],
   "source": [
    "matthew_df.to_sql('bags', conn, if_exists='append', index=False)"
   ]
  },
  {
   "cell_type": "code",
   "execution_count": 26,
   "id": "75ddd49f-4ebe-4ad1-a47a-bfd0522e9e2b",
   "metadata": {},
   "outputs": [
    {
     "data": {
      "text/plain": [
       "float"
      ]
     },
     "execution_count": 26,
     "metadata": {},
     "output_type": "execute_result"
    }
   ],
   "source": [
    "type(amy_df[\"distance\"][0])"
   ]
  },
  {
   "cell_type": "code",
   "execution_count": 29,
   "id": "c891e4cb-98ac-487b-88a4-eb8cc9ea05ed",
   "metadata": {},
   "outputs": [],
   "source": [
    "#add new bag to junction bags\n",
    "add_bags = \"\"\"\n",
    "INSERT INTO bags (user_id, munro_id, date, distance, friends, notes)\n",
    "VALUES (?, ?, ?, ?, ?, ?)\n",
    "\"\"\"\n",
    "\n",
    "data = [\n",
    "        ('u003', 'm005', '2019-08-01', None, None, None),\n",
    "        ('u003', 'm163', '2016-05-01', None, None, None),\n",
    "        ]\n",
    "\n",
    "cursor.executemany(add_bags, data)\n",
    "conn.commit()"
   ]
  },
  {
   "cell_type": "code",
   "execution_count": null,
   "id": "7f668f34-557f-49cb-94b3-2f7a18c76c22",
   "metadata": {},
   "outputs": [],
   "source": [
    "conn.close()"
   ]
  },
  {
   "cell_type": "code",
   "execution_count": null,
   "id": "7b33acdc-0429-490a-8433-d3095fc7638a",
   "metadata": {},
   "outputs": [],
   "source": []
  }
 ],
 "metadata": {
  "kernelspec": {
   "display_name": "Python 3 (ipykernel)",
   "language": "python",
   "name": "python3"
  },
  "language_info": {
   "codemirror_mode": {
    "name": "ipython",
    "version": 3
   },
   "file_extension": ".py",
   "mimetype": "text/x-python",
   "name": "python",
   "nbconvert_exporter": "python",
   "pygments_lexer": "ipython3",
   "version": "3.13.6"
  }
 },
 "nbformat": 4,
 "nbformat_minor": 5
}
