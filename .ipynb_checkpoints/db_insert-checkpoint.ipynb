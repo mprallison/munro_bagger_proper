{
 "cells": [
  {
   "cell_type": "code",
   "execution_count": null,
   "id": "ea861a90-d7e7-4a8c-b76c-575b9aa1afdc",
   "metadata": {},
   "outputs": [],
   "source": [
    "#from werkzeug.security import generate_password_hash\n",
    "#print(generate_password_hash(\"test\"))"
   ]
  },
  {
   "cell_type": "code",
   "execution_count": 1,
   "id": "9e73d71d-6fe9-453b-89b9-bc79b2a304af",
   "metadata": {},
   "outputs": [],
   "source": [
    "import sqlite3\n",
    "import pandas as pd"
   ]
  },
  {
   "cell_type": "code",
   "execution_count": 2,
   "id": "f2845b69-32ec-45f3-bc88-2bd9c47c0475",
   "metadata": {},
   "outputs": [],
   "source": [
    "db_file = \"database.db\""
   ]
  },
  {
   "cell_type": "code",
   "execution_count": 3,
   "id": "bf4dd100-13dd-4bee-95ab-89ff2b91f35b",
   "metadata": {},
   "outputs": [],
   "source": [
    "conn = sqlite3.connect(db_file)\n",
    "cursor = conn.cursor()"
   ]
  },
  {
   "cell_type": "code",
   "execution_count": 4,
   "id": "9e125fcc-27d2-49c4-877d-92cce2d6597e",
   "metadata": {},
   "outputs": [],
   "source": [
    "munro_df = pd.read_csv(\"munros_table.csv\").astype(str)"
   ]
  },
  {
   "cell_type": "code",
   "execution_count": 5,
   "id": "fa05630a",
   "metadata": {},
   "outputs": [],
   "source": [
    "#add munros table\n",
    "table_name = \"munros\"\n",
    "\n",
    "munro_df = pd.read_csv(\"munros_table.csv\")\n",
    "\n",
    "columns = \", \".join([f'\"{col}\" TEXT' for col in munro_df.columns])\n",
    "cursor.execute(f'CREATE TABLE IF NOT EXISTS {table_name} ({columns});')\n",
    "\n",
    "munro_df.to_sql(table_name, conn, if_exists=\"replace\", index=False)\n",
    "\n",
    "conn.commit()"
   ]
  },
  {
   "cell_type": "code",
   "execution_count": 6,
   "id": "b52fcc8f-195e-4420-a6c8-3d89d3c968c8",
   "metadata": {},
   "outputs": [],
   "source": [
    "#add users table\n",
    "table_name = \"users\"\n",
    "\n",
    "user_names = [\"matthew\",\n",
    "             \"amy\",\n",
    "             \"scott\",\n",
    "             \"emily\",\n",
    "            ]\n",
    "\n",
    "user_ids = [f\"u{i:03}\" for i in range(len(user_names))]\n",
    "\n",
    "passwords = 123\n",
    "\n",
    "user_df = pd.DataFrame({\"user_id\": user_ids,\n",
    "                   \"user_name\": user_names,\n",
    "                   \"password\": passwords,\n",
    "                  })\n",
    "\n",
    "columns = \", \".join([f'\"{col}\" TEXT' for col in user_df.columns])\n",
    "cursor.execute(f\"CREATE TABLE IF NOT EXISTS {table_name} ({columns});\")\n",
    "\n",
    "user_df.to_sql(table_name, conn, if_exists=\"replace\", index=False)\n",
    "\n",
    "conn.commit()"
   ]
  },
  {
   "cell_type": "code",
   "execution_count": 7,
   "id": "8503fded-bfad-479d-91c4-deedcd39239c",
   "metadata": {},
   "outputs": [],
   "source": [
    "#create junction table\n",
    "#add junction bag table\n",
    "create_junction_table = \"\"\"\n",
    "                        CREATE TABLE bags (\n",
    "                        user_id INTEGER NOT NULL,\n",
    "                        munro_id INTEGER NOT NULL,\n",
    "                        date TEXT NOT NULL,\n",
    "                        distance TEXT,\n",
    "                        friends TEXT,\n",
    "                        notes TEXT,\n",
    "                        FOREIGN KEY (user_id) REFERENCES users(user_id),\n",
    "                        FOREIGN KEY (munro_id) REFERENCES munros(munro_id)\n",
    "                        );\n",
    "                        \"\"\"\n",
    "\n",
    "cursor.execute(\"DROP TABLE IF EXISTS bags;\")\n",
    "cursor.execute(create_junction_table)\n",
    "conn.commit()"
   ]
  },
  {
   "cell_type": "code",
   "execution_count": 8,
   "id": "34415efe-2067-4873-9b65-9eb10bf4f38a",
   "metadata": {},
   "outputs": [],
   "source": [
    "amy_df = pd.read_csv(\"C:/Users/mrallison/Downloads/munros - amy_bags.csv\")\n",
    "amy_df = amy_df.fillna(\"\").astype(str)"
   ]
  },
  {
   "cell_type": "code",
   "execution_count": 12,
   "id": "205521a9-4d3f-4378-ac1e-e492018196df",
   "metadata": {},
   "outputs": [
    {
     "data": {
      "text/plain": [
       "35"
      ]
     },
     "execution_count": 12,
     "metadata": {},
     "output_type": "execute_result"
    }
   ],
   "source": [
    "amy_df.to_sql('bags', conn, if_exists='append', index=False)"
   ]
  },
  {
   "cell_type": "code",
   "execution_count": null,
   "id": "457cfb90-c4da-4925-a929-8b4b50a899e4",
   "metadata": {},
   "outputs": [],
   "source": [
    "#add new user to users\n",
    "add_user = \"\"\"INSERT INTO users (user_name, password)\n",
    "            VALUES \n",
    "                (\"pete\", \"pass\")\n",
    "            \"\"\""
   ]
  },
  {
   "cell_type": "code",
   "execution_count": 22,
   "id": "c891e4cb-98ac-487b-88a4-eb8cc9ea05ed",
   "metadata": {},
   "outputs": [],
   "source": [
    "#add new user to users\n",
    "#add_user = \"\"\"INSERT INTO users (user_name, password)\n",
    "#            VALUES \n",
    "#                (\"u00x\", \"pete\", \"pass\")\n",
    "#            \"\"\"\n",
    "\n",
    "#add new bag to junction bags\n",
    "#add_bag = \"\"\"INSERT INTO bags (user_id, munro_id, date, distance, friends, notes)\n",
    "#            VALUES \n",
    "#                ('u000', 'm000', '2025-08-26', '13km', 'Scott', 'Reached summit in 3 hours'),\n",
    "#                (, , , , ,)\n",
    "#            \"\"\"\n",
    "\n",
    "#cursor.execute(add_bag)\n",
    "#conn.commit()"
   ]
  },
  {
   "cell_type": "code",
   "execution_count": null,
   "id": "7f668f34-557f-49cb-94b3-2f7a18c76c22",
   "metadata": {},
   "outputs": [],
   "source": [
    "conn.close()"
   ]
  }
 ],
 "metadata": {
  "kernelspec": {
   "display_name": "Python 3 (ipykernel)",
   "language": "python",
   "name": "python3"
  },
  "language_info": {
   "codemirror_mode": {
    "name": "ipython",
    "version": 3
   },
   "file_extension": ".py",
   "mimetype": "text/x-python",
   "name": "python",
   "nbconvert_exporter": "python",
   "pygments_lexer": "ipython3",
   "version": "3.13.6"
  }
 },
 "nbformat": 4,
 "nbformat_minor": 5
}
