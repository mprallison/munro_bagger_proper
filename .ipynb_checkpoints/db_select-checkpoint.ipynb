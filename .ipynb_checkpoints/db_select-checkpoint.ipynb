{
 "cells": [
  {
   "cell_type": "code",
   "execution_count": 8,
   "id": "0a3b5be3-fa17-4d55-b9c6-5186812c37c3",
   "metadata": {},
   "outputs": [],
   "source": [
    "import sys\n",
    "import os\n",
    "import sqlite3\n",
    "import pandas as pd\n",
    "\n",
    "db_file = \"database.db\"\n",
    "\n",
    "sys.path.append(os.path.abspath(\"routes\"))\n",
    "\n",
    "from munro_data import *"
   ]
  },
  {
   "cell_type": "code",
   "execution_count": 9,
   "id": "6da40774-7542-4691-bec5-7d04f6838e10",
   "metadata": {},
   "outputs": [],
   "source": [
    "conn = sqlite3.connect(db_file)\n",
    "cursor = conn.cursor()"
   ]
  },
  {
   "cell_type": "code",
   "execution_count": 19,
   "id": "c7090cfe-1ed7-4339-b21b-1128dda1770d",
   "metadata": {},
   "outputs": [
    {
     "data": {
      "text/html": [
       "<div>\n",
       "<style scoped>\n",
       "    .dataframe tbody tr th:only-of-type {\n",
       "        vertical-align: middle;\n",
       "    }\n",
       "\n",
       "    .dataframe tbody tr th {\n",
       "        vertical-align: top;\n",
       "    }\n",
       "\n",
       "    .dataframe thead th {\n",
       "        text-align: right;\n",
       "    }\n",
       "</style>\n",
       "<table border=\"1\" class=\"dataframe\">\n",
       "  <thead>\n",
       "    <tr style=\"text-align: right;\">\n",
       "      <th></th>\n",
       "      <th>munro_id</th>\n",
       "      <th>name</th>\n",
       "      <th>region</th>\n",
       "      <th>county</th>\n",
       "      <th>height</th>\n",
       "      <th>latitude</th>\n",
       "      <th>longitude</th>\n",
       "    </tr>\n",
       "  </thead>\n",
       "  <tbody>\n",
       "    <tr>\n",
       "      <th>0</th>\n",
       "      <td>m000</td>\n",
       "      <td>Ben Nevis [Beinn Nibheis]</td>\n",
       "      <td>04A: Fort William to Loch Treig &amp; Loch Leven</td>\n",
       "      <td>Highland</td>\n",
       "      <td>1344m</td>\n",
       "      <td>56.796891</td>\n",
       "      <td>-5.003675</td>\n",
       "    </tr>\n",
       "    <tr>\n",
       "      <th>1</th>\n",
       "      <td>m001</td>\n",
       "      <td>Ben Macdui [Beinn Macduibh]</td>\n",
       "      <td>08A: Cairngorms</td>\n",
       "      <td>Aberdeenshire/Moray</td>\n",
       "      <td>1309m</td>\n",
       "      <td>57.070368</td>\n",
       "      <td>-3.669099</td>\n",
       "    </tr>\n",
       "    <tr>\n",
       "      <th>2</th>\n",
       "      <td>m002</td>\n",
       "      <td>Braeriach</td>\n",
       "      <td>08A: Cairngorms</td>\n",
       "      <td>Aberdeenshire/Highland</td>\n",
       "      <td>1296m</td>\n",
       "      <td>57.078298</td>\n",
       "      <td>-3.728373</td>\n",
       "    </tr>\n",
       "    <tr>\n",
       "      <th>3</th>\n",
       "      <td>m003</td>\n",
       "      <td>Cairn Toul</td>\n",
       "      <td>08A: Cairngorms</td>\n",
       "      <td>Aberdeenshire</td>\n",
       "      <td>1291m</td>\n",
       "      <td>57.054406</td>\n",
       "      <td>-3.710757</td>\n",
       "    </tr>\n",
       "    <tr>\n",
       "      <th>4</th>\n",
       "      <td>m004</td>\n",
       "      <td>Sgor an Lochain Uaine</td>\n",
       "      <td>08A: Cairngorms</td>\n",
       "      <td>Aberdeenshire</td>\n",
       "      <td>1258m</td>\n",
       "      <td>57.058376</td>\n",
       "      <td>-3.725897</td>\n",
       "    </tr>\n",
       "  </tbody>\n",
       "</table>\n",
       "</div>"
      ],
      "text/plain": [
       "  munro_id                         name  \\\n",
       "0     m000    Ben Nevis [Beinn Nibheis]   \n",
       "1     m001  Ben Macdui [Beinn Macduibh]   \n",
       "2     m002                    Braeriach   \n",
       "3     m003                   Cairn Toul   \n",
       "4     m004        Sgor an Lochain Uaine   \n",
       "\n",
       "                                         region                  county  \\\n",
       "0  04A: Fort William to Loch Treig & Loch Leven                Highland   \n",
       "1                               08A: Cairngorms     Aberdeenshire/Moray   \n",
       "2                               08A: Cairngorms  Aberdeenshire/Highland   \n",
       "3                               08A: Cairngorms           Aberdeenshire   \n",
       "4                               08A: Cairngorms           Aberdeenshire   \n",
       "\n",
       "  height   latitude  longitude  \n",
       "0  1344m  56.796891  -5.003675  \n",
       "1  1309m  57.070368  -3.669099  \n",
       "2  1296m  57.078298  -3.728373  \n",
       "3  1291m  57.054406  -3.710757  \n",
       "4  1258m  57.058376  -3.725897  "
      ]
     },
     "execution_count": 19,
     "metadata": {},
     "output_type": "execute_result"
    }
   ],
   "source": [
    "munro_df = pd.read_sql_query(\"SELECT * FROM munros\", conn)\n",
    "munro_df.head()"
   ]
  },
  {
   "cell_type": "code",
   "execution_count": 20,
   "id": "bda51ce3-b547-40ed-9582-a5ff809d805b",
   "metadata": {},
   "outputs": [
    {
     "data": {
      "text/html": [
       "<div>\n",
       "<style scoped>\n",
       "    .dataframe tbody tr th:only-of-type {\n",
       "        vertical-align: middle;\n",
       "    }\n",
       "\n",
       "    .dataframe tbody tr th {\n",
       "        vertical-align: top;\n",
       "    }\n",
       "\n",
       "    .dataframe thead th {\n",
       "        text-align: right;\n",
       "    }\n",
       "</style>\n",
       "<table border=\"1\" class=\"dataframe\">\n",
       "  <thead>\n",
       "    <tr style=\"text-align: right;\">\n",
       "      <th></th>\n",
       "      <th>user_id</th>\n",
       "      <th>user_name</th>\n",
       "      <th>password</th>\n",
       "    </tr>\n",
       "  </thead>\n",
       "  <tbody>\n",
       "    <tr>\n",
       "      <th>0</th>\n",
       "      <td>u000</td>\n",
       "      <td>matthew</td>\n",
       "      <td>123</td>\n",
       "    </tr>\n",
       "    <tr>\n",
       "      <th>1</th>\n",
       "      <td>u001</td>\n",
       "      <td>amy</td>\n",
       "      <td>123</td>\n",
       "    </tr>\n",
       "    <tr>\n",
       "      <th>2</th>\n",
       "      <td>u002</td>\n",
       "      <td>scott</td>\n",
       "      <td>123</td>\n",
       "    </tr>\n",
       "    <tr>\n",
       "      <th>3</th>\n",
       "      <td>u003</td>\n",
       "      <td>emily</td>\n",
       "      <td>123</td>\n",
       "    </tr>\n",
       "  </tbody>\n",
       "</table>\n",
       "</div>"
      ],
      "text/plain": [
       "  user_id user_name  password\n",
       "0    u000   matthew       123\n",
       "1    u001       amy       123\n",
       "2    u002     scott       123\n",
       "3    u003     emily       123"
      ]
     },
     "execution_count": 20,
     "metadata": {},
     "output_type": "execute_result"
    }
   ],
   "source": [
    "user_df = pd.read_sql_query(\"SELECT * FROM users\", conn)\n",
    "user_df.head()"
   ]
  },
  {
   "cell_type": "code",
   "execution_count": 16,
   "id": "2c562d75-754e-4fab-9736-17aaf29413e6",
   "metadata": {},
   "outputs": [
    {
     "name": "stdout",
     "output_type": "stream",
     "text": [
      "35\n"
     ]
    },
    {
     "data": {
      "text/plain": [
       "{'name': 'Ben Nevis [Beinn Nibheis]',\n",
       " 'region': '04A: Fort William to Loch Treig & Loch Leven',\n",
       " 'county': 'Highland',\n",
       " 'height': '1344m',\n",
       " 'latitude': 56.796891,\n",
       " 'longitude': -5.003675,\n",
       " 'date': None,\n",
       " 'distance': None,\n",
       " 'friends': None,\n",
       " 'notes': None}"
      ]
     },
     "execution_count": 16,
     "metadata": {},
     "output_type": "execute_result"
    }
   ],
   "source": [
    "#get data from bags table\n",
    "data, bags = get_user_complete_log(\"amy\")\n",
    "print(bags)\n",
    "data[0]"
   ]
  },
  {
   "cell_type": "code",
   "execution_count": 11,
   "id": "8ceff72c-3e8c-4764-88ac-6d3bf446195a",
   "metadata": {},
   "outputs": [
    {
     "data": {
      "text/plain": [
       "{'name': 'Ben Nevis [Beinn Nibheis]',\n",
       " 'region': '04A: Fort William to Loch Treig & Loch Leven',\n",
       " 'county': 'Highland',\n",
       " 'height': '1344m',\n",
       " 'latitude': 56.796891,\n",
       " 'longitude': -5.003675,\n",
       " 'date': None,\n",
       " 'distance': None,\n",
       " 'friends': None,\n",
       " 'notes': None}"
      ]
     },
     "execution_count": 11,
     "metadata": {},
     "output_type": "execute_result"
    }
   ],
   "source": [
    "data[0]"
   ]
  },
  {
   "cell_type": "code",
   "execution_count": null,
   "id": "0b38c484-636a-48a6-afc6-f7c669d1f663",
   "metadata": {},
   "outputs": [],
   "source": []
  }
 ],
 "metadata": {
  "kernelspec": {
   "display_name": "Python 3 (ipykernel)",
   "language": "python",
   "name": "python3"
  },
  "language_info": {
   "codemirror_mode": {
    "name": "ipython",
    "version": 3
   },
   "file_extension": ".py",
   "mimetype": "text/x-python",
   "name": "python",
   "nbconvert_exporter": "python",
   "pygments_lexer": "ipython3",
   "version": "3.13.6"
  }
 },
 "nbformat": 4,
 "nbformat_minor": 5
}
