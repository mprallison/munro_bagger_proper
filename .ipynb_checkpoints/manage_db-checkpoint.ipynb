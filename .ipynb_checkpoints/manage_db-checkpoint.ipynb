{
 "cells": [
  {
   "cell_type": "code",
   "execution_count": null,
   "id": "ea861a90-d7e7-4a8c-b76c-575b9aa1afdc",
   "metadata": {},
   "outputs": [],
   "source": [
    "#from werkzeug.security import generate_password_hash\n",
    "#print(generate_password_hash(\"test\"))"
   ]
  },
  {
   "cell_type": "code",
   "execution_count": 1,
   "id": "9e73d71d-6fe9-453b-89b9-bc79b2a304af",
   "metadata": {},
   "outputs": [],
   "source": [
    "import sqlite3\n",
    "import pandas as pd"
   ]
  },
  {
   "cell_type": "code",
   "execution_count": 2,
   "id": "f2845b69-32ec-45f3-bc88-2bd9c47c0475",
   "metadata": {},
   "outputs": [],
   "source": [
    "db_file = \"database.db\""
   ]
  },
  {
   "cell_type": "code",
   "execution_count": 3,
   "id": "bf4dd100-13dd-4bee-95ab-89ff2b91f35b",
   "metadata": {},
   "outputs": [],
   "source": [
    "conn = sqlite3.connect(db_file)\n",
    "cursor = conn.cursor()"
   ]
  },
  {
   "cell_type": "code",
   "execution_count": 34,
   "id": "7bad993e-3773-426e-94c5-8b526348ed17",
   "metadata": {},
   "outputs": [
    {
     "data": {
      "text/html": [
       "<div>\n",
       "<style scoped>\n",
       "    .dataframe tbody tr th:only-of-type {\n",
       "        vertical-align: middle;\n",
       "    }\n",
       "\n",
       "    .dataframe tbody tr th {\n",
       "        vertical-align: top;\n",
       "    }\n",
       "\n",
       "    .dataframe thead th {\n",
       "        text-align: right;\n",
       "    }\n",
       "</style>\n",
       "<table border=\"1\" class=\"dataframe\">\n",
       "  <thead>\n",
       "    <tr style=\"text-align: right;\">\n",
       "      <th></th>\n",
       "      <th>user_id</th>\n",
       "      <th>user_name</th>\n",
       "      <th>password</th>\n",
       "    </tr>\n",
       "  </thead>\n",
       "  <tbody>\n",
       "    <tr>\n",
       "      <th>0</th>\n",
       "      <td>0</td>\n",
       "      <td>matthew</td>\n",
       "      <td>matthew</td>\n",
       "    </tr>\n",
       "    <tr>\n",
       "      <th>1</th>\n",
       "      <td>1</td>\n",
       "      <td>amy</td>\n",
       "      <td>amy</td>\n",
       "    </tr>\n",
       "    <tr>\n",
       "      <th>2</th>\n",
       "      <td>2</td>\n",
       "      <td>scott</td>\n",
       "      <td>scott</td>\n",
       "    </tr>\n",
       "    <tr>\n",
       "      <th>3</th>\n",
       "      <td>3</td>\n",
       "      <td>emily</td>\n",
       "      <td>emily</td>\n",
       "    </tr>\n",
       "  </tbody>\n",
       "</table>\n",
       "</div>"
      ],
      "text/plain": [
       "   user_id user_name password\n",
       "0        0   matthew  matthew\n",
       "1        1       amy      amy\n",
       "2        2     scott    scott\n",
       "3        3     emily    emily"
      ]
     },
     "execution_count": 34,
     "metadata": {},
     "output_type": "execute_result"
    }
   ],
   "source": [
    "df"
   ]
  },
  {
   "cell_type": "code",
   "execution_count": 5,
   "id": "fa05630a",
   "metadata": {},
   "outputs": [],
   "source": [
    "#add munros table\n",
    "table_name = \"munros\"\n",
    "\n",
    "df = pd.read_csv(\"munros_table.csv\")\n",
    "\n",
    "columns = \", \".join([f'\"{col}\" TEXT' for col in df.columns])\n",
    "cursor.execute(f'CREATE TABLE IF NOT EXISTS {table_name} ({columns});')\n",
    "\n",
    "df.to_sql(table_name, conn, if_exists=\"replace\", index=False)\n",
    "\n",
    "conn.commit()"
   ]
  },
  {
   "cell_type": "code",
   "execution_count": 32,
   "id": "334fa393-96e2-45bf-a649-ae859adfd21d",
   "metadata": {},
   "outputs": [
    {
     "name": "stdout",
     "output_type": "stream",
     "text": [
      "(0, 'Ben Nevis [Beinn Nibheis]', '04A: Fort William to Loch Treig & Loch Leven', 'Highland', 1344, 56.796891, -5.003675)\n",
      "(1, 'Ben Macdui [Beinn Macduibh]', '08A: Cairngorms', 'Aberdeenshire/Moray', 1309, 57.070368, -3.669099)\n",
      "(2, 'Braeriach', '08A: Cairngorms', 'Aberdeenshire/Highland', 1296, 57.078298, -3.728373)\n",
      "(3, 'Cairn Toul', '08A: Cairngorms', 'Aberdeenshire', 1291, 57.054406, -3.710757)\n",
      "(4, 'Sgor an Lochain Uaine', '08A: Cairngorms', 'Aberdeenshire', 1258, 57.058376, -3.725897)\n"
     ]
    }
   ],
   "source": [
    "cursor.execute(\"SELECT * FROM munros\")\n",
    "rows = cursor.fetchall()\n",
    "for row in rows[:5]:\n",
    "    print(row)"
   ]
  },
  {
   "cell_type": "code",
   "execution_count": 6,
   "id": "cc939f65-569a-4e9b-9c52-de3508d892ca",
   "metadata": {},
   "outputs": [],
   "source": [
    "#add users table\n",
    "table_name = \"users\"\n",
    "\n",
    "users = [\"matthew\",\n",
    "        \"amy\",\n",
    "        \"scott\", \n",
    "        \"emily\"]\n",
    "\n",
    "ids = list(range(len(users)))\n",
    "\n",
    "passwords = [\"matthew\",\n",
    "            \"amy\",\n",
    "            \"scott\", \n",
    "            \"emily\"]\n",
    "\n",
    "df  = pd.DataFrame({\n",
    "                    \"user_id\": ids,\n",
    "                    \"user_name\": users,\n",
    "                    \"password\": passwords\n",
    "                  })\n",
    "\n",
    "columns = \", \".join([f'\"{col}\" TEXT' for col in df.columns])\n",
    "cursor.execute(f\"CREATE TABLE IF NOT EXISTS {table_name} ({columns});\")\n",
    "\n",
    "df.to_sql(table_name, conn, if_exists=\"replace\", index=False)\n",
    "\n",
    "conn.commit()"
   ]
  },
  {
   "cell_type": "code",
   "execution_count": 33,
   "id": "9acd19c2-78f9-4351-8be0-4c91fbd6bdb5",
   "metadata": {},
   "outputs": [
    {
     "name": "stdout",
     "output_type": "stream",
     "text": [
      "(0, 'matthew', 'matthew')\n",
      "(1, 'amy', 'amy')\n",
      "(2, 'scott', 'scott')\n",
      "(3, 'emily', 'emily')\n"
     ]
    }
   ],
   "source": [
    "cursor.execute(\"SELECT * FROM users\")\n",
    "rows = cursor.fetchall()\n",
    "for row in rows[:5]:\n",
    "    print(row)"
   ]
  },
  {
   "cell_type": "code",
   "execution_count": 8,
   "id": "37b77e11-2c78-446c-ae6a-87489cf2a8a6",
   "metadata": {},
   "outputs": [],
   "source": [
    "#add junction bag table\n",
    "create_junction_table = \"\"\"\n",
    "                        CREATE TABLE bags (\n",
    "                        event_id INTEGER PRIMARY KEY,\n",
    "                        user_id INTEGER NOT NULL,\n",
    "                        munro_id INTEGER NOT NULL,\n",
    "                        date TEXT,\n",
    "                        notes TEXT,                 \n",
    "                        FOREIGN KEY (user_id) REFERENCES users(user_id),\n",
    "                        FOREIGN KEY (munro_id) REFERENCES munros(munro_id)\n",
    "                        );\n",
    "                        \"\"\""
   ]
  },
  {
   "cell_type": "code",
   "execution_count": 9,
   "id": "131a3353-f132-4771-9ae9-8b2d10d61245",
   "metadata": {},
   "outputs": [
    {
     "data": {
      "text/plain": [
       "<sqlite3.Cursor at 0x1a06f44f3c0>"
      ]
     },
     "execution_count": 9,
     "metadata": {},
     "output_type": "execute_result"
    }
   ],
   "source": [
    "cursor.execute(\"DROP TABLE IF EXISTS bags;\")\n",
    "cursor.execute(create_junction_table)"
   ]
  },
  {
   "cell_type": "code",
   "execution_count": null,
   "id": "e5e589d2-bd09-4c2f-a55a-e3fc77fbe85f",
   "metadata": {},
   "outputs": [],
   "source": []
  },
  {
   "cell_type": "code",
   "execution_count": null,
   "id": "457cfb90-c4da-4925-a929-8b4b50a899e4",
   "metadata": {},
   "outputs": [],
   "source": [
    "#add new user to users\n",
    "add_user = \"\"\"INSERT INTO users (user_name, password)\n",
    "            VALUES \n",
    "                (\"pete\", \"pass\")\n",
    "            \"\"\""
   ]
  },
  {
   "cell_type": "code",
   "execution_count": 10,
   "id": "c891e4cb-98ac-487b-88a4-eb8cc9ea05ed",
   "metadata": {},
   "outputs": [],
   "source": [
    "#add new bag to junction bags\n",
    "add_bag = \"\"\"INSERT INTO bags (user_id, munro_id, date, notes)\n",
    "            VALUES \n",
    "                (0, 0, '2025-08-26', 'Reached summit in 3 hours'),\n",
    "                (1, 0, '2025-08-20', 'Nice view'),\n",
    "                (0, 1, '2025-08-22', 'Sunny day');\n",
    "            \"\"\""
   ]
  },
  {
   "cell_type": "code",
   "execution_count": 11,
   "id": "2f811a53-69ed-47cd-94ad-ed1627e4bec5",
   "metadata": {},
   "outputs": [
    {
     "data": {
      "text/plain": [
       "<sqlite3.Cursor at 0x1a06f44f3c0>"
      ]
     },
     "execution_count": 11,
     "metadata": {},
     "output_type": "execute_result"
    }
   ],
   "source": [
    "cursor.execute(insert_bag)"
   ]
  },
  {
   "cell_type": "code",
   "execution_count": 28,
   "id": "349022b6-b2b5-4c78-87b3-524aae61618e",
   "metadata": {},
   "outputs": [],
   "source": [
    "user_query = \"\"\"SELECT u.user_id, u.user_name, m.munro_id, m.name, b.date, b.notes\n",
    "            FROM bags b\n",
    "            JOIN users u ON b.user_id = u.user_id\n",
    "            JOIN munros m ON b.munro_id = m.munro_id\n",
    "            WHERE u.user_id = 0;\n",
    "            \"\"\""
   ]
  },
  {
   "cell_type": "code",
   "execution_count": 23,
   "id": "15cb1a7b-3533-4c2b-990a-3cf7b99bb5cc",
   "metadata": {},
   "outputs": [],
   "source": [
    "munro_query = \"\"\"SELECT u.user_id, u.user_name, m.munro_id, m.name, b.date\n",
    "            FROM bags b\n",
    "            JOIN users u ON b.user_id = u.user_id\n",
    "            JOIN munros m ON b.munro_id = m.munro_id\n",
    "            WHERE m.munro_id = 0;\n",
    "            \"\"\""
   ]
  },
  {
   "cell_type": "code",
   "execution_count": 30,
   "id": "c211f28b-cb24-496b-a6b3-29d3250b351e",
   "metadata": {},
   "outputs": [
    {
     "name": "stdout",
     "output_type": "stream",
     "text": [
      "(0, 'matthew', 0, 'Ben Nevis [Beinn Nibheis]', '2025-08-26', 'Reached summit in 3 hours')\n",
      "(0, 'matthew', 1, 'Ben Macdui [Beinn Macduibh]', '2025-08-22', 'Sunny day')\n"
     ]
    }
   ],
   "source": [
    "#get all bags by user\n",
    "cursor.execute(user_query)\n",
    "rows = cursor.fetchall()\n",
    "for row in rows[:5]:\n",
    "    print(row)"
   ]
  },
  {
   "cell_type": "code",
   "execution_count": 31,
   "id": "f1da595d-e455-4820-aec9-1bdb536f78bb",
   "metadata": {},
   "outputs": [
    {
     "name": "stdout",
     "output_type": "stream",
     "text": [
      "(0, 'matthew', 0, 'Ben Nevis [Beinn Nibheis]', '2025-08-26')\n",
      "(1, 'amy', 0, 'Ben Nevis [Beinn Nibheis]', '2025-08-20')\n"
     ]
    }
   ],
   "source": [
    "#get all bags by munro\n",
    "cursor.execute(munro_query)\n",
    "rows = cursor.fetchall()\n",
    "for row in rows[:5]:\n",
    "    print(row)"
   ]
  },
  {
   "cell_type": "code",
   "execution_count": 21,
   "id": "5d2cced7-3eb7-4be4-9bba-aaa7edf7f174",
   "metadata": {},
   "outputs": [],
   "source": [
    "conn.close()"
   ]
  },
  {
   "cell_type": "code",
   "execution_count": null,
   "id": "7f668f34-557f-49cb-94b3-2f7a18c76c22",
   "metadata": {},
   "outputs": [],
   "source": []
  }
 ],
 "metadata": {
  "kernelspec": {
   "display_name": "Python 3 (ipykernel)",
   "language": "python",
   "name": "python3"
  },
  "language_info": {
   "codemirror_mode": {
    "name": "ipython",
    "version": 3
   },
   "file_extension": ".py",
   "mimetype": "text/x-python",
   "name": "python",
   "nbconvert_exporter": "python",
   "pygments_lexer": "ipython3",
   "version": "3.13.6"
  }
 },
 "nbformat": 4,
 "nbformat_minor": 5
}
