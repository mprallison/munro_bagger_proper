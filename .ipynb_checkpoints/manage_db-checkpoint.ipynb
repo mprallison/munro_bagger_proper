{
 "cells": [
  {
   "cell_type": "code",
   "execution_count": null,
   "id": "ea861a90-d7e7-4a8c-b76c-575b9aa1afdc",
   "metadata": {},
   "outputs": [],
   "source": [
    "#from werkzeug.security import generate_password_hash\n",
    "#print(generate_password_hash(\"test\"))"
   ]
  },
  {
   "cell_type": "code",
   "execution_count": 1,
   "id": "9e73d71d-6fe9-453b-89b9-bc79b2a304af",
   "metadata": {},
   "outputs": [],
   "source": [
    "import sqlite3\n",
    "import pandas as pd"
   ]
  },
  {
   "cell_type": "code",
   "execution_count": null,
   "id": "afe93484-1514-46ba-a351-19ac5d0e3734",
   "metadata": {},
   "outputs": [],
   "source": [
    "#create munros table\n",
    "create_munro_table = \"\"\"CREATE TABLE munros (\n",
    "                    munro_id TEXT PRIMARY KEY,\n",
    "                    name TEXT UNIQUE,\n",
    "                    region TEXT,\n",
    "                    description TEXT,\n",
    "                    whl_url TEXT,\n",
    "                    latitude FLOAT,\n",
    "                    longitude FLOAT,\n",
    "                );\n",
    "                \"\"\"\n",
    "cursor.execute(\"DROP TABLE IF EXISTS munros;\"\")\n",
    "cursor.execute(create_munro_table)\n",
    "\n",
    "#add data from csv\n",
    "munro_df = pd.read_csv(\"munros_table.csv\")\n",
    "munro_df.to_sql(\"munros\", conn, if_exists=\"append\", index=False)\n",
    "conn.commit()"
   ]
  },
  {
   "cell_type": "code",
   "execution_count": null,
   "id": "290ee7e2-12ac-46d1-b4b9-13c70c1ab50c",
   "metadata": {},
   "outputs": [],
   "source": [
    "#create users table\n",
    "create_user_table = \"\"\"CREATE TABLE users (\n",
    "                    user_id TEXT PRIMARY KEY,\n",
    "                    user_name TEXT UNIQUE NOT NULL,\n",
    "                    password TEXT NOT NULL\n",
    "                );\n",
    "                \"\"\"\n",
    "\n",
    "cursor.execute(\"DROP TABLE IF EXISTS users;\")\n",
    "cursor.execute(create_user_table)\n",
    "\n",
    "#delete all users\n",
    "cursor.execute(\"DELETE FROM users;\")\n",
    "conn.commit()\n",
    "\n",
    "#add users from df\n",
    "users = [\"matthew\", \"amy\", \"scott\", \"emily\",]\n",
    "\n",
    "user_df = pd.DataFrame({\n",
    "                \"user_id\": [f\"u{i:03}\" for i in range(len(users))],\n",
    "                \"user_name\": users,\n",
    "                \"password\": 123,\n",
    "                })\n",
    "\n",
    "#need to use append so not to change table schema\n",
    "user_df.to_sql(\"users\", conn, if_exists=\"append\", index=False)\n",
    "conn.commit()"
   ]
  },
  {
   "cell_type": "code",
   "execution_count": null,
   "id": "03ce7fda-92c8-4327-80a7-0e5932a20570",
   "metadata": {},
   "outputs": [],
   "source": [
    "#create junction table\n",
    "#add junction bag table\n",
    "create_junction_table = \"\"\"\n",
    "                        CREATE TABLE bags (\n",
    "                        user_id INTEGER NOT NULL,\n",
    "                        munro_id INTEGER NOT NULL,\n",
    "                        date TEXT NOT NULL,\n",
    "                        distance TEXT,\n",
    "                        friends TEXT,\n",
    "                        notes TEXT,\n",
    "                        FOREIGN KEY (user_id) REFERENCES users(user_id),\n",
    "                        FOREIGN KEY (munro_id) REFERENCES munros(munro_id)\n",
    "                        );\n",
    "                        \"\"\"\n",
    "\n",
    "#cursor.execute(\"DROP TABLE IF EXISTS bags;\")\n",
    "#cursor.execute(create_junction_table)\n",
    "#conn.commit()"
   ]
  },
  {
   "cell_type": "code",
   "execution_count": null,
   "id": "3cc0b0b3-b140-4930-b0d2-bdd52d5a56ba",
   "metadata": {},
   "outputs": [],
   "source": []
  },
  {
   "cell_type": "code",
   "execution_count": null,
   "id": "7f668f34-557f-49cb-94b3-2f7a18c76c22",
   "metadata": {},
   "outputs": [],
   "source": []
  }
 ],
 "metadata": {
  "kernelspec": {
   "display_name": "Python 3 (ipykernel)",
   "language": "python",
   "name": "python3"
  },
  "language_info": {
   "codemirror_mode": {
    "name": "ipython",
    "version": 3
   },
   "file_extension": ".py",
   "mimetype": "text/x-python",
   "name": "python",
   "nbconvert_exporter": "python",
   "pygments_lexer": "ipython3",
   "version": "3.13.6"
  }
 },
 "nbformat": 4,
 "nbformat_minor": 5
}
