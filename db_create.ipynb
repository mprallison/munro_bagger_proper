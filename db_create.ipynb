{
 "cells": [
  {
   "cell_type": "code",
   "execution_count": null,
   "id": "ea861a90-d7e7-4a8c-b76c-575b9aa1afdc",
   "metadata": {},
   "outputs": [],
   "source": [
    "#from werkzeug.security import generate_password_hash\n",
    "#print(generate_password_hash(\"test\"))"
   ]
  },
  {
   "cell_type": "code",
   "execution_count": 18,
   "id": "9e73d71d-6fe9-453b-89b9-bc79b2a304af",
   "metadata": {},
   "outputs": [],
   "source": [
    "import sqlite3\n",
    "import pandas as pd"
   ]
  },
  {
   "cell_type": "code",
   "execution_count": 19,
   "id": "f2845b69-32ec-45f3-bc88-2bd9c47c0475",
   "metadata": {},
   "outputs": [],
   "source": [
    "db_file = \"database.db\""
   ]
  },
  {
   "cell_type": "code",
   "execution_count": 20,
   "id": "bf4dd100-13dd-4bee-95ab-89ff2b91f35b",
   "metadata": {},
   "outputs": [],
   "source": [
    "conn = sqlite3.connect(db_file)\n",
    "cursor = conn.cursor()"
   ]
  },
  {
   "cell_type": "code",
   "execution_count": 15,
   "id": "fa05630a",
   "metadata": {},
   "outputs": [],
   "source": [
    "#create munros table\n",
    "create_munro_table = \"\"\"CREATE TABLE munros (\n",
    "                    munro_id TEXT PRIMARY KEY,\n",
    "                    name TEXT UNIQUE,\n",
    "                    region TEXT,\n",
    "                    description TEXT,\n",
    "                    whl_url TEXT,\n",
    "                    latitude FLOAT,\n",
    "                    longitude FLOAT,\n",
    "                );\n",
    "                \"\"\"\n",
    "cursor.execute(\"DROP TABLE IF EXISTS munros;\"\")\n",
    "cursor.execute(create_munro_table)\n",
    "\n",
    "#add data from csv\n",
    "munro_df = pd.read_csv(\"munros_table.csv\")\n",
    "munro_df.to_sql(\"munros\", conn, if_exists=\"append\", index=False)\n",
    "conn.commit()"
   ]
  },
  {
   "cell_type": "code",
   "execution_count": 26,
   "id": "eb4df96d-e0e7-44d1-8669-fc3f227e83eb",
   "metadata": {},
   "outputs": [],
   "source": [
    "#create users table\n",
    "create_user_table = \"\"\"CREATE TABLE users (\n",
    "                    user_id TEXT PRIMARY KEY,\n",
    "                    user_name TEXT UNIQUE NOT NULL,\n",
    "                    password TEXT NOT NULL\n",
    "                );\n",
    "                \"\"\"\n",
    "\n",
    "cursor.execute(\"DROP TABLE IF EXISTS users;\")\n",
    "cursor.execute(create_user_table)\n",
    "\n",
    "#delete all users\n",
    "cursor.execute(\"DELETE FROM users;\")\n",
    "conn.commit()\n",
    "\n",
    "#add users from df\n",
    "users = [\"matthew\", \"amy\", \"scott\", \"emily\",]\n",
    "\n",
    "user_df = pd.DataFrame({\n",
    "                \"user_id\": [f\"u{i:03}\" for i in range(len(users))],\n",
    "                \"user_name\": users,\n",
    "                \"password\": 123,\n",
    "                })\n",
    "\n",
    "#need to use append so not to change table schema\n",
    "user_df.to_sql(\"users\", conn, if_exists=\"append\", index=False)\n",
    "conn.commit()"
   ]
  },
  {
   "cell_type": "code",
   "execution_count": 27,
   "id": "8503fded-bfad-479d-91c4-deedcd39239c",
   "metadata": {},
   "outputs": [],
   "source": [
    "#create junction table\n",
    "#add junction bag table\n",
    "create_junction_table = \"\"\"\n",
    "                        CREATE TABLE bags (\n",
    "                        user_id INTEGER NOT NULL,\n",
    "                        munro_id INTEGER NOT NULL,\n",
    "                        date TEXT NOT NULL,\n",
    "                        distance TEXT,\n",
    "                        friends TEXT,\n",
    "                        notes TEXT,\n",
    "                        FOREIGN KEY (user_id) REFERENCES users(user_id),\n",
    "                        FOREIGN KEY (munro_id) REFERENCES munros(munro_id)\n",
    "                        );\n",
    "                        \"\"\"\n",
    "\n",
    "#cursor.execute(\"DROP TABLE IF EXISTS bags;\")\n",
    "#cursor.execute(create_junction_table)\n",
    "#conn.commit()"
   ]
  },
  {
   "cell_type": "code",
   "execution_count": 23,
   "id": "34415efe-2067-4873-9b65-9eb10bf4f38a",
   "metadata": {},
   "outputs": [
    {
     "data": {
      "text/plain": [
       "35"
      ]
     },
     "execution_count": 23,
     "metadata": {},
     "output_type": "execute_result"
    }
   ],
   "source": [
    "#add bags from csv\n",
    "#my_df = pd.read_csv(\"C:/Users/mrallison/Downloads/munros - amy_bags.csv\", dtype=str, keep_default_na=True)\n",
    "amy_df.to_sql('bags', conn, if_exists='append', index=False)"
   ]
  },
  {
   "cell_type": "code",
   "execution_count": 3,
   "id": "5fa3431f-7b75-43c8-b1b2-5871ec84a209",
   "metadata": {},
   "outputs": [],
   "source": [
    "#matthew_df = pd.read_csv(\"C:/Users/mrallison/Downloads/munros - Sheet7.csv\", dtype=str)\n",
    "#matthew_df[\"distance\"] = None\n",
    "#matthew_df[\"friends\"] = None\n",
    "#matthew_df[\"notes\"] = None\n",
    "\n",
    "#matthew_df.to_sql('bags', conn, if_exists='append', index=False)"
   ]
  },
  {
   "cell_type": "code",
   "execution_count": 5,
   "id": "7b33acdc-0429-490a-8433-d3095fc7638a",
   "metadata": {},
   "outputs": [
    {
     "data": {
      "text/plain": [
       "'2024-06-22'"
      ]
     },
     "execution_count": 5,
     "metadata": {},
     "output_type": "execute_result"
    }
   ],
   "source": [
    "matthew_df[\"date\"][0]"
   ]
  },
  {
   "cell_type": "code",
   "execution_count": 9,
   "id": "512180e3-c865-4a97-add9-35f2dc18fff8",
   "metadata": {},
   "outputs": [
    {
     "data": {
      "text/plain": [
       "'9/7/2019'"
      ]
     },
     "execution_count": 9,
     "metadata": {},
     "output_type": "execute_result"
    }
   ],
   "source": [
    "amy_df[\"date\"][0]"
   ]
  },
  {
   "cell_type": "code",
   "execution_count": 15,
   "id": "076e9722-b8c5-404e-bab8-514651ee15d1",
   "metadata": {},
   "outputs": [],
   "source": [
    "def date_str(date):\n",
    "\n",
    "    day, month, year = date.split(\"/\")\n",
    "\n",
    "    if len(day) == 1:\n",
    "        day = \"0\"+day\n",
    "    if len(month) == 1:\n",
    "        month = \"0\"+month\n",
    "        \n",
    "\n",
    "    return f\"{year}-{month}-{day}\""
   ]
  },
  {
   "cell_type": "code",
   "execution_count": 16,
   "id": "6f9c3bf3-4d4c-4559-b0b4-1fe536c64d7c",
   "metadata": {},
   "outputs": [],
   "source": [
    "amy_df[\"date\"] = amy_df[\"date\"].apply(lambda x: date_str(x))"
   ]
  },
  {
   "cell_type": "code",
   "execution_count": 22,
   "id": "a902bae0-926e-4007-8493-13d29e0746a3",
   "metadata": {},
   "outputs": [
    {
     "data": {
      "text/plain": [
       "<sqlite3.Cursor at 0x19ff7ee2340>"
      ]
     },
     "execution_count": 22,
     "metadata": {},
     "output_type": "execute_result"
    }
   ],
   "source": [
    "del_query = \"DELETE FROM bags WHERE user_id = 'u001';\"\n",
    "cursor.execute(del_query)"
   ]
  },
  {
   "cell_type": "code",
   "execution_count": 24,
   "id": "370a41d2-64fc-4a04-84c4-37c0e1ce6f1d",
   "metadata": {},
   "outputs": [],
   "source": [
    "conn.commit()"
   ]
  },
  {
   "cell_type": "code",
   "execution_count": 25,
   "id": "4fb0aa34-be58-4806-b765-f87e4c639e4c",
   "metadata": {},
   "outputs": [],
   "source": [
    "alt_query = \"\"\"ALTER TABLE bags\n",
    "ALTER COLUMN date TYPE DATE\n",
    "USING to_date(date, 'YYYY-MM-DD');\"\"\""
   ]
  },
  {
   "cell_type": "code",
   "execution_count": 26,
   "id": "d9ce5ef9-8a49-445b-a376-acf76fbab2fc",
   "metadata": {},
   "outputs": [
    {
     "ename": "OperationalError",
     "evalue": "near \"ALTER\": syntax error",
     "output_type": "error",
     "traceback": [
      "\u001b[31m---------------------------------------------------------------------------\u001b[39m",
      "\u001b[31mOperationalError\u001b[39m                          Traceback (most recent call last)",
      "\u001b[36mCell\u001b[39m\u001b[36m \u001b[39m\u001b[32mIn[26]\u001b[39m\u001b[32m, line 1\u001b[39m\n\u001b[32m----> \u001b[39m\u001b[32m1\u001b[39m \u001b[43mcursor\u001b[49m\u001b[43m.\u001b[49m\u001b[43mexecute\u001b[49m\u001b[43m(\u001b[49m\u001b[43malt_query\u001b[49m\u001b[43m)\u001b[49m\n",
      "\u001b[31mOperationalError\u001b[39m: near \"ALTER\": syntax error"
     ]
    }
   ],
   "source": [
    "cursor.execute(alt_query)"
   ]
  },
  {
   "cell_type": "code",
   "execution_count": null,
   "id": "7dd37757-bf62-471c-8ed2-a8a3e6c02b4b",
   "metadata": {},
   "outputs": [],
   "source": []
  }
 ],
 "metadata": {
  "kernelspec": {
   "display_name": "Python 3 (ipykernel)",
   "language": "python",
   "name": "python3"
  },
  "language_info": {
   "codemirror_mode": {
    "name": "ipython",
    "version": 3
   },
   "file_extension": ".py",
   "mimetype": "text/x-python",
   "name": "python",
   "nbconvert_exporter": "python",
   "pygments_lexer": "ipython3",
   "version": "3.13.6"
  }
 },
 "nbformat": 4,
 "nbformat_minor": 5
}
